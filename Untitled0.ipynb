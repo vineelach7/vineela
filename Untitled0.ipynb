{
  "nbformat": 4,
  "nbformat_minor": 0,
  "metadata": {
    "colab": {
      "provenance": [],
      "authorship_tag": "ABX9TyPPeJ6q7DW5YAb1gr2bqLxB",
      "include_colab_link": true
    },
    "kernelspec": {
      "name": "python3",
      "display_name": "Python 3"
    },
    "language_info": {
      "name": "python"
    }
  },
  "cells": [
    {
      "cell_type": "markdown",
      "metadata": {
        "id": "view-in-github",
        "colab_type": "text"
      },
      "source": [
        "<a href=\"https://colab.research.google.com/github/vineelach7/vineela/blob/main/Untitled0.ipynb\" target=\"_parent\"><img src=\"https://colab.research.google.com/assets/colab-badge.svg\" alt=\"Open In Colab\"/></a>"
      ]
    },
    {
      "cell_type": "code",
      "execution_count": null,
      "metadata": {
        "colab": {
          "base_uri": "https://localhost:8080/"
        },
        "id": "s3ZkZr_Ydhdk",
        "outputId": "11cdfbe3-85cf-4bc9-e3b5-d22b0c552044"
      },
      "outputs": [
        {
          "output_type": "stream",
          "name": "stdout",
          "text": [
            "     sky air temp humidity    wind water forecast enjoy sport\n",
            "0  sunny     warm   normal  strong  warm     same         yes\n",
            "1  sunny     warm     high  strong  warm     same         yes\n",
            "2  rainy     cold     high  strong  warm   change          no\n",
            "3  sunny     warm     high  strong  cool   change         yes\n",
            "the attributes are [['sunny' 'warm' 'normal' 'strong' 'warm' 'same']\n",
            " ['sunny' 'warm' 'high' 'strong' 'warm' 'same']\n",
            " ['rainy' 'cold' 'high' 'strong' 'warm' 'change']\n",
            " ['sunny' 'warm' 'high' 'strong' 'cool' 'change']]\n",
            "the target is ['yes' 'yes' 'no' 'yes']\n",
            "['sunny' 'warm' '?' 'strong' '?' '?']\n"
          ]
        }
      ],
      "source": [
        "import pandas as pd\n",
        "import numpy as np\n",
        "data=pd.read_csv(\"data.csv\")\n",
        "print(data)\n",
        "concepts=np.array(data)[:,:-1]\n",
        "print(\"the attributes are\", concepts)\n",
        "t=np.array(data)[:,-1]\n",
        "print(\"the target is\",t)\n",
        "def train(con,tar):\n",
        "  for i,val in enumerate(tar):\n",
        "    if val.upper() == \"YES\":\n",
        "      specific_h=con[i].copy()\n",
        "      break\n",
        "  for i,val in enumerate(con):\n",
        "    if tar[i].upper() == \"YES\":\n",
        "      for x in range(len(specific_h)):\n",
        "        if val[x]!=specific_h[x]:\n",
        "          specific_h[x]=\"?\"\n",
        "    else:\n",
        "      pass\n",
        "  return specific_h\n",
        "print(train(concepts,t))\n"
      ]
    },
    {
      "cell_type": "code",
      "source": [],
      "metadata": {
        "id": "W3IW2enhtqBS"
      },
      "execution_count": null,
      "outputs": []
    }
  ]
}